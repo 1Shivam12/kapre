{
 "cells": [
  {
   "cell_type": "code",
   "execution_count": 1,
   "metadata": {
    "collapsed": false
   },
   "outputs": [
    {
     "name": "stderr",
     "output_type": "stream",
     "text": [
      "Using TensorFlow backend.\n"
     ]
    }
   ],
   "source": [
    "import keras\n",
    "import kapre\n",
    "from datetime import datetime\n",
    "now = datetime.now()\n",
    "\n",
    "def print_version_info():\n",
    "    print('%s/%s/%s' % (now.year, now.month, now.day))\n",
    "    print('Keras version: {}'.format(keras.__version__))\n",
    "    if keras.backend._BACKEND == 'tensorflow':\n",
    "        import tensorflow\n",
    "        print('Keras backend: {}: {}'.format(keras.backend._backend, tensorflow.__version__))\n",
    "    else:\n",
    "        import theano\n",
    "        print('Keras backend: {}: {}'.format(keras.backend._backend, theano.__version__))\n",
    "    print('Keras image data format: {}'.format(keras.backend.image_data_format()))\n",
    "    print('Kapre version: {}'.format(kapre.__version__))\n",
    "\n",
    "def check_model(model):\n",
    "    model.summary(line_length=80, positions=[.33, .65, .8, 1.])\n",
    "\n",
    "    batch_input_shape = (2,) + model.input_shape[1:]\n",
    "    batch_output_shape = (2,) + model.output_shape[1:]\n",
    "    model.compile('sgd', 'mse')\n",
    "    model.fit(np.random.uniform(size=batch_input_shape), np.random.uniform(size=batch_output_shape), epochs=1)"
   ]
  },
  {
   "cell_type": "markdown",
   "metadata": {},
   "source": [
    "# Spectrogram"
   ]
  },
  {
   "cell_type": "code",
   "execution_count": 4,
   "metadata": {
    "collapsed": false
   },
   "outputs": [
    {
     "name": "stdout",
     "output_type": "stream",
     "text": [
      "2017/6/17\n",
      "Keras version: 2.0.4\n",
      "Keras backend: tensorflow: 1.0.1\n",
      "Keras image data format: channels_last\n",
      "Kapre version: 0.0.4\n",
      "________________________________________________________________________________\n",
      "Layer (type)              Output Shape              Param #     \n",
      "================================================================================\n",
      "static_stft (Spectrogram) (None, 257, 173, 2)       263168      \n",
      "================================================================================\n",
      "Total params: 263,168\n",
      "Trainable params: 0\n",
      "Non-trainable params: 263,168\n",
      "________________________________________________________________________________\n",
      "Epoch 1/1\n",
      "2/2 [==============================] - 0s - loss: 1180.0742\n"
     ]
    }
   ],
   "source": [
    "print_version_info()\n",
    "import keras\n",
    "import kapre\n",
    "from keras.models import Sequential\n",
    "from kapre.time_frequency import Spectrogram\n",
    "import numpy as np\n",
    "src = np.random.random((2, 44100))\n",
    "sr = 44100\n",
    "model = Sequential()\n",
    "model.add(Spectrogram(n_dft=512, n_hop=256, input_shape=src.shape, \n",
    "          return_decibel_spectrogram=True, power_spectrogram=2.0, \n",
    "          trainable_kernel=False, name='static_stft'))\n",
    "\n",
    "check_model(model)"
   ]
  },
  {
   "cell_type": "markdown",
   "metadata": {},
   "source": [
    "# Spectrogram (trainable)"
   ]
  },
  {
   "cell_type": "code",
   "execution_count": 5,
   "metadata": {
    "collapsed": false
   },
   "outputs": [
    {
     "name": "stdout",
     "output_type": "stream",
     "text": [
      "2017/6/17\n",
      "Keras version: 2.0.4\n",
      "Keras backend: tensorflow: 1.0.1\n",
      "Keras image data format: channels_last\n",
      "Kapre version: 0.0.4\n",
      "________________________________________________________________________________\n",
      "Layer (type)              Output Shape              Param #     \n",
      "================================================================================\n",
      "trainable_stft (Spectrogr (None, 1025, 44, 2)       4198400     \n",
      "================================================================================\n",
      "Total params: 4,198,400\n",
      "Trainable params: 4,198,400\n",
      "Non-trainable params: 0\n",
      "________________________________________________________________________________\n",
      "Epoch 1/1\n",
      "2/2 [==============================] - 0s - loss: 1601.4280\n"
     ]
    }
   ],
   "source": [
    "print_version_info()\n",
    "import keras\n",
    "import kapre\n",
    "from keras.models import Sequential\n",
    "from kapre.time_frequency import Spectrogram\n",
    "import numpy as np\n",
    "\n",
    "src = np.random.random((2, 44100))\n",
    "sr = 44100\n",
    "model = Sequential()\n",
    "model.add(Spectrogram(n_dft=2048, n_hop=1024, input_shape=src.shape, \n",
    "          return_decibel_spectrogram=True, power_spectrogram=2.0, \n",
    "          trainable_kernel=True, name='trainable_stft'))\n",
    "\n",
    "check_model(model)"
   ]
  },
  {
   "cell_type": "markdown",
   "metadata": {},
   "source": [
    "# Melspectrogram"
   ]
  },
  {
   "cell_type": "code",
   "execution_count": 6,
   "metadata": {
    "collapsed": false
   },
   "outputs": [
    {
     "name": "stdout",
     "output_type": "stream",
     "text": [
      "2017/6/17\n",
      "Keras version: 2.0.4\n",
      "Keras backend: tensorflow: 1.0.1\n",
      "Keras image data format: channels_last\n",
      "Kapre version: 0.0.4\n",
      "________________________________________________________________________________\n",
      "Layer (type)              Output Shape              Param #     \n",
      "================================================================================\n",
      "melgram (Melspectrogram)  (None, 128, 173, 2)       296064      \n",
      "================================================================================\n",
      "Total params: 296,064\n",
      "Trainable params: 263,168\n",
      "Non-trainable params: 32,896\n",
      "________________________________________________________________________________\n",
      "Epoch 1/1\n",
      "2/2 [==============================] - 0s - loss: 0.3316\n"
     ]
    }
   ],
   "source": [
    "print_version_info()\n",
    "import keras\n",
    "import kapre\n",
    "from keras.models import Sequential\n",
    "from kapre.time_frequency import Melspectrogram\n",
    "import numpy as np\n",
    "\n",
    "src = np.random.random((2, 44100))\n",
    "sr = 44100\n",
    "model = Sequential()\n",
    "model.add(Melspectrogram(sr=16000, n_mels=128, \n",
    "          n_dft=512, n_hop=256, input_shape=src.shape, \n",
    "          return_decibel_spectrogram=True,\n",
    "          trainable_kernel=True, name='melgram'))\n",
    "\n",
    "check_model(model)"
   ]
  },
  {
   "cell_type": "markdown",
   "metadata": {},
   "source": [
    "# AdditiveNoise"
   ]
  },
  {
   "cell_type": "code",
   "execution_count": 7,
   "metadata": {
    "collapsed": false,
    "scrolled": true
   },
   "outputs": [
    {
     "name": "stdout",
     "output_type": "stream",
     "text": [
      "2017/6/17\n",
      "Keras version: 2.0.4\n",
      "Keras backend: tensorflow: 1.0.1\n",
      "Keras image data format: channels_last\n",
      "Kapre version: 0.0.4\n",
      "________________________________________________________________________________\n",
      "Layer (type)              Output Shape              Param #     \n",
      "================================================================================\n",
      "melgram (Melspectrogram)  (None, 128, 173, 2)       296064      \n",
      "________________________________________________________________________________\n",
      "additive_noise_1 (Additiv (None, 128, 173, 2)       0           \n",
      "================================================================================\n",
      "Total params: 296,064\n",
      "Trainable params: 0\n",
      "Non-trainable params: 296,064\n",
      "________________________________________________________________________________\n"
     ]
    }
   ],
   "source": [
    "print_version_info()\n",
    "import keras\n",
    "import kapre\n",
    "from keras.models import Sequential\n",
    "from kapre.time_frequency import Melspectrogram\n",
    "from kapre.augmentation import AdditiveNoise\n",
    "import numpy as np\n",
    "\n",
    "src = np.random.random((2, 44100))\n",
    "sr = 44100\n",
    "model = Sequential()\n",
    "model.add(Melspectrogram(sr=16000, n_mels=128, \n",
    "          n_dft=512, n_hop=256, input_shape=src.shape, \n",
    "          return_decibel_spectrogram=True,\n",
    "          trainable_kernel=False, name='melgram'))\n",
    "model.add(AdditiveNoise(power=0.2))\n",
    "model.summary(line_length=80, positions=[.33, .65, .8, 1.])"
   ]
  },
  {
   "cell_type": "markdown",
   "metadata": {},
   "source": [
    "# Filterbanks"
   ]
  },
  {
   "cell_type": "code",
   "execution_count": 2,
   "metadata": {
    "collapsed": false
   },
   "outputs": [
    {
     "name": "stdout",
     "output_type": "stream",
     "text": [
      "2017/6/17\n",
      "Keras version: 2.0.4\n",
      "Keras backend: tensorflow: 1.0.1\n",
      "Keras image data format: channels_last\n",
      "Kapre version: 0.0.4\n",
      "________________________________________________________________________________\n",
      "Layer (type)              Output Shape              Param #     \n",
      "================================================================================\n",
      "static_stft (Spectrogram) (None, 257, 173, 2)       263168      \n",
      "________________________________________________________________________________\n",
      "mel_bank (Filterbank)     (None, 50, 173, 2)        12850       \n",
      "================================================================================\n",
      "Total params: 276,018\n",
      "Trainable params: 0\n",
      "Non-trainable params: 276,018\n",
      "________________________________________________________________________________\n",
      "Epoch 1/1\n",
      "2/2 [==============================] - 0s - loss: 0.8578\n"
     ]
    }
   ],
   "source": [
    "print_version_info()\n",
    "import keras\n",
    "import kapre\n",
    "from keras.models import Sequential\n",
    "from kapre.time_frequency import Spectrogram\n",
    "from kapre.filterbank import Filterbank\n",
    "\n",
    "import numpy as np\n",
    "src = np.random.random((2, 44100))\n",
    "sr = 44100\n",
    "model = Sequential()\n",
    "model.add(Spectrogram(n_dft=512, n_hop=256, input_shape=src.shape, \n",
    "          return_decibel_spectrogram=True, power_spectrogram=2.0, \n",
    "          trainable_kernel=False, name='static_stft'))\n",
    "model.add(Filterbank(n_fbs=50, trainable_fb=False, sr=sr, init='mel', fmin=0, fmax=sr//2, bins_per_octave=12,\n",
    "                    name='mel_bank'))\n",
    "check_model(model)\n"
   ]
  },
  {
   "cell_type": "code",
   "execution_count": 3,
   "metadata": {
    "collapsed": false
   },
   "outputs": [
    {
     "name": "stdout",
     "output_type": "stream",
     "text": [
      "2017/6/17\n",
      "Keras version: 2.0.4\n",
      "Keras backend: tensorflow: 1.0.1\n",
      "Keras image data format: channels_last\n",
      "Kapre version: 0.0.4\n",
      "________________________________________________________________________________\n",
      "Layer (type)              Output Shape              Param #     \n",
      "================================================================================\n",
      "static_stft (Spectrogram) (None, 257, 173, 2)       263168      \n",
      "________________________________________________________________________________\n",
      "log_bank (Filterbank)     (None, 48, 173, 2)        12336       \n",
      "================================================================================\n",
      "Total params: 275,504\n",
      "Trainable params: 0\n",
      "Non-trainable params: 275,504\n",
      "________________________________________________________________________________\n",
      "Epoch 1/1\n",
      "2/2 [==============================] - 0s - loss: 573.2187\n"
     ]
    }
   ],
   "source": [
    "print_version_info()\n",
    "import keras\n",
    "import kapre\n",
    "from keras.models import Sequential\n",
    "from kapre.time_frequency import Spectrogram\n",
    "from kapre.filterbank import Filterbank\n",
    "\n",
    "import numpy as np\n",
    "src = np.random.random((2, 44100))\n",
    "sr = 44100\n",
    "model = Sequential()\n",
    "model.add(Spectrogram(n_dft=512, n_hop=256, input_shape=src.shape, \n",
    "          return_decibel_spectrogram=True, power_spectrogram=2.0, \n",
    "          trainable_kernel=False, name='static_stft'))\n",
    "model.add(Filterbank(n_fbs=48, trainable_fb=False, sr=sr, init='log', fmin=None, fmax=sr//2, bins_per_octave=12,\n",
    "                    name='log_bank'))\n",
    "check_model(model)\n",
    "\n"
   ]
  },
  {
   "cell_type": "code",
   "execution_count": null,
   "metadata": {
    "collapsed": true
   },
   "outputs": [],
   "source": []
  }
 ],
 "metadata": {
  "kernelspec": {
   "display_name": "Python 2",
   "language": "python",
   "name": "python2"
  },
  "language_info": {
   "codemirror_mode": {
    "name": "ipython",
    "version": 2
   },
   "file_extension": ".py",
   "mimetype": "text/x-python",
   "name": "python",
   "nbconvert_exporter": "python",
   "pygments_lexer": "ipython2",
   "version": "2.7.11"
  }
 },
 "nbformat": 4,
 "nbformat_minor": 0
}
